{
 "cells": [
  {
   "cell_type": "code",
   "execution_count": 1,
   "id": "398f87d5",
   "metadata": {},
   "outputs": [],
   "source": [
    "import pandas as pd\n",
    "import numpy as np\n",
    "import matplotlib.pyplot as plt\n",
    "import seaborn as sns\n",
    "\n",
    "# Preprocessing et standardisation\n",
    "from sklearn.preprocessing import OneHotEncoder\n",
    "\n",
    "from sklearn.impute import SimpleImputer\n",
    "from sklearn.preprocessing import StandardScaler\n",
    "\n",
    "# Feature Engineering\n",
    "import re\n",
    "from collections import Counter\n",
    "\n",
    "# Séparation du jeu de données\n",
    "from sklearn.model_selection import train_test_split\n",
    "\n",
    "\n",
    "# Importation pour notre modélisation\n",
    "from sklearn.neighbors import KNeighborsClassifier\n",
    "\n",
    "from sklearn.model_selection import cross_val_score\n",
    "from sklearn.model_selection import validation_curve\n",
    "from sklearn.model_selection import GridSearchCV\n",
    "from sklearn.metrics import confusion_matrix, classification_report\n",
    "\n",
    "# Preprocessing\n",
    "from sklearn.preprocessing import StandardScaler, OneHotEncoder,OrdinalEncoder\n",
    "from sklearn.pipeline import Pipeline\n",
    "from sklearn.compose import ColumnTransformer\n",
    "from sklearn.feature_selection import VarianceThreshold"
   ]
  },
  {
   "cell_type": "code",
   "execution_count": null,
   "id": "0bd21e2a",
   "metadata": {},
   "outputs": [],
   "source": []
  },
  {
   "cell_type": "code",
   "execution_count": 2,
   "id": "1d704842",
   "metadata": {},
   "outputs": [
    {
     "name": "stderr",
     "output_type": "stream",
     "text": [
      "C:\\Users\\gregm\\anaconda3\\envs\\Python\\lib\\site-packages\\tqdm\\auto.py:21: TqdmWarning: IProgress not found. Please update jupyter and ipywidgets. See https://ipywidgets.readthedocs.io/en/stable/user_install.html\n",
      "  from .autonotebook import tqdm as notebook_tqdm\n"
     ]
    }
   ],
   "source": [
    "# Importation bibliothèque\n",
    "\n",
    "import numpy as np\n",
    "import pandas as pd\n",
    "import matplotlib.pyplot as plt\n",
    "import seaborn as sns\n",
    "import missingno as msno\n",
    "import time\n",
    "import shap\n",
    "import warnings\n",
    "warnings.filterwarnings('ignore')\n",
    "\n",
    "\n",
    "# Preprocessing\n",
    "from sklearn.preprocessing import StandardScaler, OneHotEncoder,OrdinalEncoder\n",
    "from sklearn.pipeline import Pipeline\n",
    "from sklearn.compose import ColumnTransformer\n",
    "from sklearn.feature_selection import VarianceThreshold\n",
    "\n",
    "\n",
    "# Séparation du jeu de données\n",
    "from sklearn.model_selection import train_test_split\n",
    "\n",
    "# Modélisation\n",
    "from sklearn.linear_model import LinearRegression\n",
    "from sklearn import linear_model\n",
    "\n",
    "from sklearn import tree\n",
    "from sklearn.tree import DecisionTreeRegressor\n",
    "from sklearn.tree import plot_tree\n",
    "\n",
    "from sklearn.ensemble import GradientBoostingRegressor\n",
    "\n",
    "from sklearn.svm import SVR\n",
    "from sklearn.svm import SVC\n",
    "\n",
    "from sklearn.ensemble import RandomForestRegressor\n",
    "from sklearn.compose import TransformedTargetRegressor\n",
    "\n",
    "# Mesures de performances\n",
    "from sklearn.metrics import *\n",
    "from sklearn import metrics\n",
    "from sklearn.metrics import r2_score \n",
    "from sklearn.metrics import mean_squared_error\n",
    "\n",
    "# Tests avec un régulateur pour la Régression Linéaire\n",
    "from sklearn.linear_model import Ridge\n",
    "from sklearn.linear_model import Lasso\n",
    "from sklearn.linear_model import ElasticNet\n",
    "\n",
    "# Optimisation du modèle\n",
    "from sklearn.model_selection import cross_val_score\n",
    "from sklearn.model_selection import validation_curve\n",
    "from sklearn.model_selection import GridSearchCV\n",
    "\n",
    "\n"
   ]
  },
  {
   "cell_type": "code",
   "execution_count": 3,
   "id": "5bbf3aff",
   "metadata": {},
   "outputs": [],
   "source": [
    "df = pd.read_csv('df_modélisation.csv')\n",
    "\n",
    "df = df.rename(columns = lambda x:re.sub('[^A-Za-z0-9_]+', '', x))"
   ]
  },
  {
   "cell_type": "code",
   "execution_count": 4,
   "id": "887e0e84",
   "metadata": {},
   "outputs": [],
   "source": [
    "# Imputation des variables\n",
    "\n",
    "df.replace([np.inf, -np.inf], np.nan, inplace=True)\n",
    "col_num = list(df.select_dtypes('float64').columns)\n",
    "\n",
    "imp_mean = SimpleImputer(strategy='mean') # Création de l'objet SimpleImputer et définition de la stratégie de l'imputation\n",
    "df[col_num] = imp_mean.fit_transform(df[col_num]) # Imputation des données manquantes dans les colonnes numériques"
   ]
  },
  {
   "cell_type": "code",
   "execution_count": 5,
   "id": "916442a0",
   "metadata": {},
   "outputs": [
    {
     "data": {
      "text/plain": [
       "'Données entrainements : '"
      ]
     },
     "metadata": {},
     "output_type": "display_data"
    },
    {
     "data": {
      "text/plain": [
       "(230629, 162)"
      ]
     },
     "metadata": {},
     "output_type": "display_data"
    },
    {
     "data": {
      "text/plain": [
       "(76877, 162)"
      ]
     },
     "metadata": {},
     "output_type": "display_data"
    },
    {
     "data": {
      "text/plain": [
       "'Données de validation'"
      ]
     },
     "metadata": {},
     "output_type": "display_data"
    },
    {
     "data": {
      "text/plain": [
       "(230629,)"
      ]
     },
     "metadata": {},
     "output_type": "display_data"
    },
    {
     "data": {
      "text/plain": [
       "(76877,)"
      ]
     },
     "metadata": {},
     "output_type": "display_data"
    }
   ],
   "source": [
    "# Création du train_test_split\n",
    "\n",
    "# Séparation des données de la cible\n",
    "X = df.drop('TARGET', axis=1)\n",
    "y = df['TARGET']\n",
    "\n",
    "# Division en train et validation (75/25)\n",
    "X_train, X_test, y_train, y_test = train_test_split(X, y, test_size=0.25, random_state=100)\n",
    "\n",
    "display('Données entrainements : ',X_train.shape, X_test.shape)\n",
    "display('Données de validation',y_train.shape, y_test.shape)"
   ]
  },
  {
   "cell_type": "markdown",
   "id": "5ea4e77b",
   "metadata": {},
   "source": [
    "## Modélisation"
   ]
  },
  {
   "cell_type": "code",
   "execution_count": 6,
   "id": "3fd3527c",
   "metadata": {},
   "outputs": [
    {
     "name": "stdout",
     "output_type": "stream",
     "text": [
      "Le taux de prédiction du modèle est de :  0.9209249487271766\n"
     ]
    }
   ],
   "source": [
    "model = KNeighborsClassifier()\n",
    "model.fit(X_train, y_train)\n",
    "print('Le taux de prédiction du modèle est de : ',model.score(X_train, y_train))"
   ]
  },
  {
   "cell_type": "code",
   "execution_count": 7,
   "id": "a7c55fc7",
   "metadata": {},
   "outputs": [
    {
     "name": "stdout",
     "output_type": "stream",
     "text": [
      "La performance du modèle sur X test est :  0.9143827152464327\n"
     ]
    }
   ],
   "source": [
    "# on va faire une prédiction\n",
    "prediction = model.predict(X_test)\n",
    "print ('La performance du modèle sur X test est : ', model.score(X_test, y_test))"
   ]
  },
  {
   "cell_type": "code",
   "execution_count": 8,
   "id": "372e0bb8",
   "metadata": {},
   "outputs": [
    {
     "name": "stdout",
     "output_type": "stream",
     "text": [
      "              precision    recall  f1-score   support\n",
      "\n",
      "           0       0.92      0.99      0.96     70762\n",
      "           1       0.12      0.01      0.02      6115\n",
      "\n",
      "    accuracy                           0.91     76877\n",
      "   macro avg       0.52      0.50      0.49     76877\n",
      "weighted avg       0.86      0.91      0.88     76877\n",
      "\n"
     ]
    }
   ],
   "source": [
    "# Classification\n",
    "\n",
    "print(classification_report(y_test, prediction))"
   ]
  },
  {
   "cell_type": "code",
   "execution_count": 9,
   "id": "82966c33",
   "metadata": {},
   "outputs": [
    {
     "data": {
      "text/plain": [
       "array([[70218,   544],\n",
       "       [ 6038,    77]], dtype=int64)"
      ]
     },
     "execution_count": 9,
     "metadata": {},
     "output_type": "execute_result"
    }
   ],
   "source": [
    "# Utilisation de la fonction confusion matrix pour analyser les erreurs\n",
    "\n",
    "confusion_matrix(y_test, model.predict(X_test))"
   ]
  },
  {
   "cell_type": "code",
   "execution_count": 10,
   "id": "52c4ec03",
   "metadata": {},
   "outputs": [],
   "source": [
    "import pickle\n",
    "\n",
    "# Sauvegarde du modèle\n",
    "with open('model_KNN.pkl', 'wb') as file:\n",
    "    pickle.dump(model, file)"
   ]
  },
  {
   "cell_type": "markdown",
   "id": "12216d34",
   "metadata": {},
   "source": [
    "## Optimisation"
   ]
  },
  {
   "cell_type": "code",
   "execution_count": 11,
   "id": "8d1e304a",
   "metadata": {},
   "outputs": [
    {
     "data": {
      "text/plain": [
       "0.9132502840787599"
      ]
     },
     "execution_count": 11,
     "metadata": {},
     "output_type": "execute_result"
    }
   ],
   "source": [
    "cross_val_score(KNeighborsClassifier(), X_train, y_train, cv = 10, scoring = 'accuracy').mean()"
   ]
  },
  {
   "cell_type": "code",
   "execution_count": 12,
   "id": "7c7dac23",
   "metadata": {},
   "outputs": [],
   "source": [
    "score_validation = []\n",
    "for k in range(1,26):\n",
    "    score = cross_val_score(KNeighborsClassifier(k), X_train, y_train, cv = 10, scoring = 'accuracy').mean()\n",
    "    score_validation.append(score)"
   ]
  },
  {
   "cell_type": "code",
   "execution_count": 13,
   "id": "1969a82c",
   "metadata": {},
   "outputs": [
    {
     "data": {
      "text/plain": [
       "[<matplotlib.lines.Line2D at 0x2b13f644a60>]"
      ]
     },
     "execution_count": 13,
     "metadata": {},
     "output_type": "execute_result"
    },
    {
     "data": {
      "image/png": "[encoded data removed]",
      "text/plain": [
       "<Figure size 640x480 with 1 Axes>"
      ]
     },
     "metadata": {},
     "output_type": "display_data"
    }
   ],
   "source": [
    "score_validation\n",
    "plt.plot(score_validation, marker = 'o', color = 'r')"
   ]
  },
  {
   "cell_type": "markdown",
   "id": "ac927b09",
   "metadata": {},
   "source": [
    "Nous constatons une très forte stagnation entre 7 et 20 pour le k. Nous allons tester notre modèle avec une optimisation entre 8 et 10 (qui semble présenter une légère hausse)."
   ]
  },
  {
   "cell_type": "code",
   "execution_count": 15,
   "id": "b750a15f",
   "metadata": {},
   "outputs": [],
   "source": [
    "grid_param = {'n_neighbors':np.arange(8,10),\n",
    "             'weights' : ['uniform', 'distance'],\n",
    "             'metric': ['euclidean', 'manhattan', 'minkowski']}\n",
    "grid = GridSearchCV(KNeighborsClassifier(), grid_param, cv = 5, verbose = 5)"
   ]
  },
  {
   "cell_type": "code",
   "execution_count": 16,
   "id": "12ed8afc",
   "metadata": {},
   "outputs": [
    {
     "name": "stdout",
     "output_type": "stream",
     "text": [
      "Fitting 5 folds for each of 12 candidates, totalling 60 fits\n",
      "[CV 1/5] END metric=euclidean, n_neighbors=8, weights=uniform;, score=0.919 total time= 1.1min\n",
      "[CV 2/5] END metric=euclidean, n_neighbors=8, weights=uniform;, score=0.919 total time= 1.1min\n",
      "[CV 3/5] END metric=euclidean, n_neighbors=8, weights=uniform;, score=0.918 total time= 1.1min\n",
      "[CV 4/5] END metric=euclidean, n_neighbors=8, weights=uniform;, score=0.918 total time= 1.1min\n",
      "[CV 5/5] END metric=euclidean, n_neighbors=8, weights=uniform;, score=0.919 total time= 1.3min\n",
      "[CV 1/5] END metric=euclidean, n_neighbors=8, weights=distance;, score=0.917 total time= 1.1min\n",
      "[CV 2/5] END metric=euclidean, n_neighbors=8, weights=distance;, score=0.917 total time= 1.2min\n",
      "[CV 3/5] END metric=euclidean, n_neighbors=8, weights=distance;, score=0.917 total time= 1.1min\n",
      "[CV 4/5] END metric=euclidean, n_neighbors=8, weights=distance;, score=0.917 total time= 1.1min\n",
      "[CV 5/5] END metric=euclidean, n_neighbors=8, weights=distance;, score=0.917 total time= 1.1min\n",
      "[CV 1/5] END metric=euclidean, n_neighbors=9, weights=uniform;, score=0.918 total time= 1.1min\n",
      "[CV 2/5] END metric=euclidean, n_neighbors=9, weights=uniform;, score=0.918 total time= 1.1min\n",
      "[CV 3/5] END metric=euclidean, n_neighbors=9, weights=uniform;, score=0.918 total time= 1.2min\n",
      "[CV 4/5] END metric=euclidean, n_neighbors=9, weights=uniform;, score=0.918 total time= 1.1min\n",
      "[CV 5/5] END metric=euclidean, n_neighbors=9, weights=uniform;, score=0.918 total time= 1.2min\n",
      "[CV 1/5] END metric=euclidean, n_neighbors=9, weights=distance;, score=0.918 total time= 1.1min\n",
      "[CV 2/5] END metric=euclidean, n_neighbors=9, weights=distance;, score=0.918 total time= 1.1min\n",
      "[CV 3/5] END metric=euclidean, n_neighbors=9, weights=distance;, score=0.917 total time= 1.1min\n",
      "[CV 4/5] END metric=euclidean, n_neighbors=9, weights=distance;, score=0.918 total time= 1.1min\n",
      "[CV 5/5] END metric=euclidean, n_neighbors=9, weights=distance;, score=0.918 total time= 1.1min\n",
      "[CV 1/5] END metric=manhattan, n_neighbors=8, weights=uniform;, score=0.919 total time=14.3min\n",
      "[CV 2/5] END metric=manhattan, n_neighbors=8, weights=uniform;, score=0.918 total time=14.2min\n",
      "[CV 3/5] END metric=manhattan, n_neighbors=8, weights=uniform;, score=0.918 total time=14.0min\n",
      "[CV 4/5] END metric=manhattan, n_neighbors=8, weights=uniform;, score=0.918 total time=47.4min\n",
      "[CV 5/5] END metric=manhattan, n_neighbors=8, weights=uniform;, score=0.919 total time=14.2min\n",
      "[CV 1/5] END metric=manhattan, n_neighbors=8, weights=distance;, score=0.917 total time=14.1min\n",
      "[CV 2/5] END metric=manhattan, n_neighbors=8, weights=distance;, score=0.916 total time=14.0min\n",
      "[CV 3/5] END metric=manhattan, n_neighbors=8, weights=distance;, score=0.916 total time=13.4min\n",
      "[CV 4/5] END metric=manhattan, n_neighbors=8, weights=distance;, score=0.917 total time= 7.2min\n",
      "[CV 5/5] END metric=manhattan, n_neighbors=8, weights=distance;, score=0.917 total time= 7.0min\n",
      "[CV 1/5] END metric=manhattan, n_neighbors=9, weights=uniform;, score=0.918 total time= 6.7min\n",
      "[CV 2/5] END metric=manhattan, n_neighbors=9, weights=uniform;, score=0.918 total time= 6.9min\n",
      "[CV 3/5] END metric=manhattan, n_neighbors=9, weights=uniform;, score=0.918 total time= 6.7min\n",
      "[CV 4/5] END metric=manhattan, n_neighbors=9, weights=uniform;, score=0.918 total time= 6.8min\n",
      "[CV 5/5] END metric=manhattan, n_neighbors=9, weights=uniform;, score=0.918 total time= 6.8min\n",
      "[CV 1/5] END metric=manhattan, n_neighbors=9, weights=distance;, score=0.918 total time= 6.8min\n",
      "[CV 2/5] END metric=manhattan, n_neighbors=9, weights=distance;, score=0.918 total time= 6.8min\n",
      "[CV 3/5] END metric=manhattan, n_neighbors=9, weights=distance;, score=0.918 total time= 6.8min\n",
      "[CV 4/5] END metric=manhattan, n_neighbors=9, weights=distance;, score=0.918 total time= 7.1min\n",
      "[CV 5/5] END metric=manhattan, n_neighbors=9, weights=distance;, score=0.918 total time= 7.1min\n",
      "[CV 1/5] END metric=minkowski, n_neighbors=8, weights=uniform;, score=0.919 total time=  47.3s\n",
      "[CV 2/5] END metric=minkowski, n_neighbors=8, weights=uniform;, score=0.919 total time=  47.7s\n",
      "[CV 3/5] END metric=minkowski, n_neighbors=8, weights=uniform;, score=0.918 total time=  47.9s\n",
      "[CV 4/5] END metric=minkowski, n_neighbors=8, weights=uniform;, score=0.918 total time=  48.4s\n",
      "[CV 5/5] END metric=minkowski, n_neighbors=8, weights=uniform;, score=0.919 total time=  49.0s\n",
      "[CV 1/5] END metric=minkowski, n_neighbors=8, weights=distance;, score=0.917 total time=  46.7s\n",
      "[CV 2/5] END metric=minkowski, n_neighbors=8, weights=distance;, score=0.917 total time=  43.2s\n",
      "[CV 3/5] END metric=minkowski, n_neighbors=8, weights=distance;, score=0.917 total time=  43.9s\n",
      "[CV 4/5] END metric=minkowski, n_neighbors=8, weights=distance;, score=0.917 total time=  42.3s\n",
      "[CV 5/5] END metric=minkowski, n_neighbors=8, weights=distance;, score=0.917 total time=  42.4s\n",
      "[CV 1/5] END metric=minkowski, n_neighbors=9, weights=uniform;, score=0.918 total time=  45.3s\n",
      "[CV 2/5] END metric=minkowski, n_neighbors=9, weights=uniform;, score=0.918 total time=  45.4s\n",
      "[CV 3/5] END metric=minkowski, n_neighbors=9, weights=uniform;, score=0.918 total time=  45.5s\n",
      "[CV 4/5] END metric=minkowski, n_neighbors=9, weights=uniform;, score=0.918 total time=  45.0s\n",
      "[CV 5/5] END metric=minkowski, n_neighbors=9, weights=uniform;, score=0.918 total time=  44.7s\n",
      "[CV 1/5] END metric=minkowski, n_neighbors=9, weights=distance;, score=0.918 total time=  41.4s\n",
      "[CV 2/5] END metric=minkowski, n_neighbors=9, weights=distance;, score=0.918 total time=  42.4s\n",
      "[CV 3/5] END metric=minkowski, n_neighbors=9, weights=distance;, score=0.917 total time=  41.8s\n",
      "[CV 4/5] END metric=minkowski, n_neighbors=9, weights=distance;, score=0.918 total time=  42.4s\n",
      "[CV 5/5] END metric=minkowski, n_neighbors=9, weights=distance;, score=0.918 total time=  43.3s\n",
      "Le meilleur score avec les hyperparamètres est de :  0.9185098150970237\n",
      "Les meilleurs hyperparamètres sont :  {'metric': 'euclidean', 'n_neighbors': 8, 'weights': 'uniform'}\n"
     ]
    }
   ],
   "source": [
    "# ici, on entraine la fonction\n",
    "grid.fit(X_train, y_train)\n",
    "\n",
    "# Obtenir le meilleur score selon nos choix d'hyperparamètres\n",
    "print('Le meilleur score avec les hyperparamètres est de : ',grid.best_score_)\n",
    "\n",
    "# Connaître les meilleurs paramètres\n",
    "print('Les meilleurs hyperparamètres sont : ',grid.best_params_)"
   ]
  },
  {
   "cell_type": "code",
   "execution_count": 18,
   "id": "d1ad82d9",
   "metadata": {},
   "outputs": [
    {
     "name": "stdout",
     "output_type": "stream",
     "text": [
      "Le taux de prédiction du modèle est de :  0.9191385298466368\n"
     ]
    }
   ],
   "source": [
    "# Création du modèle final avec les hyperparamètres\n",
    "model_final = KNeighborsClassifier(metric='euclidean', n_neighbors=8, weights='uniform')\n",
    "model_final.fit(X_train, y_train)\n",
    "\n",
    "# Évaluation du modèle\n",
    "print('Le taux de prédiction du modèle est de : ', model_final.score(X_train, y_train))"
   ]
  },
  {
   "cell_type": "code",
   "execution_count": 19,
   "id": "961031f3",
   "metadata": {},
   "outputs": [
    {
     "data": {
      "text/plain": [
       "array([[70712,    50],\n",
       "       [ 6106,     9]], dtype=int64)"
      ]
     },
     "execution_count": 19,
     "metadata": {},
     "output_type": "execute_result"
    }
   ],
   "source": [
    "# Utilisation de la fonction confusion matrix pour analyser les erreurs\n",
    "\n",
    "confusion_matrix(y_test, model_final.predict(X_test))"
   ]
  },
  {
   "cell_type": "code",
   "execution_count": null,
   "id": "98844704",
   "metadata": {},
   "outputs": [],
   "source": []
  },
  {
   "cell_type": "code",
   "execution_count": null,
   "id": "2f992e0d",
   "metadata": {},
   "outputs": [],
   "source": [
    "import pickle\n",
    "\n",
    "# Sauvegarde du modèle\n",
    "with open('model_KNN.pkl', 'wb') as file:\n",
    "    pickle.dump(model, file)"
   ]
  }
 ],
 "metadata": {
  "kernelspec": {
   "display_name": "Python 3 (ipykernel)",
   "language": "python",
   "name": "python3"
  },
  "language_info": {
   "codemirror_mode": {
    "name": "ipython",
    "version": 3
   },
   "file_extension": ".py",
   "mimetype": "text/x-python",
   "name": "python",
   "nbconvert_exporter": "python",
   "pygments_lexer": "ipython3",
   "version": "3.9.16"
  }
 },
 "nbformat": 4,
 "nbformat_minor": 5
}
